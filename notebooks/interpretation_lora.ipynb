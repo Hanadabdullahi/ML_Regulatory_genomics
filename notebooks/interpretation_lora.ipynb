{
    "cells": [
        {
            "cell_type": "code",
            "execution_count": 1,
            "metadata": {},
            "outputs": [
                {
                    "name": "stderr",
                    "output_type": "stream",
                    "text": [
                        "Seed set to 42\n"
                    ]
                }
            ],
            "source": [
                "import os\n",
                "import sys\n",
                "sys.path.append(\"../\")\n",
                "\n",
                "import hydra\n",
                "from omegaconf import DictConfig\n",
                "import pandas as pd\n",
                "import torch\n",
                "from src.utils.preprocess import (\n",
                "    load_tif_seq_data,\n",
                "    match_with_genomic_data,\n",
                "    save_processed_data,\n",
                "    preprocess_data,\n",
                "    get_tokens\n",
                ")\n",
                "from src.training.data_module import YeastDataModule\n",
                "from src.utils.dataset import one_hot_encode_sequence as one_hot, split_by_chrom\n",
                "from src.utils.utils import set_seed\n",
                "import numpy as np\n",
                "import matplotlib.pyplot as plt\n",
                "import matplotlib as mpl\n",
                "from matplotlib import cm\n",
                "from matplotlib.colors import ListedColormap, LinearSegmentedColormap\n",
                "import math\n",
                "from src.models.lora import Lora\n",
                "import pytorch_lightning as pl\n",
                "import torch\n",
                "\n",
                "from captum.attr import DeepLift\n",
                "\n",
                "%load_ext autoreload\n",
                "%autoreload 2\n",
                "set_seed(42)"
            ]
        },
        {
            "cell_type": "code",
            "execution_count": 2,
            "metadata": {},
            "outputs": [],
            "source": [
                "# Function to load Hydra configuration\n",
                "base_dir = os.getcwd()\n",
                "os.environ[\"CURRENT_DIR\"] = base_dir\n",
                "\n",
                "\n",
                "def load_config(config_path: str, config_name: str) -> DictConfig:\n",
                "    with hydra.initialize(config_path=config_path, version_base=\"1.3\"):\n",
                "        config = hydra.compose(config_name=config_name)\n",
                "    return config\n",
                "\n",
                "\n",
                "# Load the configuration\n",
                "config = load_config(config_path=\"../configs\", config_name=\"lora\")"
            ]
        },
        {
            "cell_type": "markdown",
            "metadata": {},
            "source": [
                "# Load the data"
            ]
        },
        {
            "cell_type": "code",
            "execution_count": 3,
            "metadata": {},
            "outputs": [
                {
                    "name": "stdout",
                    "output_type": "stream",
                    "text": [
                        "Current working directory: /data/ceph/hdd/project/node_07/ml4rg_students/2024/Project07_PolyB/Regulate-Me/notebooks\n",
                        "counts_file: ../data/saccharomyces_cerevisiae/counts.pt\n",
                        "Preprocessing completed successfully!\n",
                        "Loaded counts shape: torch.Size([6580, 2, 1003])\n",
                        "Loaded dataset shape: (6580, 10)\n"
                    ]
                },
                {
                    "data": {
                        "application/vnd.jupyter.widget-view+json": {
                            "model_id": "c1f8bcabecd04aa3a4e2a5cd0e2d5598",
                            "version_major": 2,
                            "version_minor": 0
                        },
                        "text/plain": [
                            "Map (num_proc=4):   0%|          | 0/6580 [00:00<?, ? examples/s]"
                        ]
                    },
                    "metadata": {},
                    "output_type": "display_data"
                },
                {
                    "name": "stdout",
                    "output_type": "stream",
                    "text": [
                        "test\n"
                    ]
                }
            ],
            "source": [
                "# Preprocessing Data\n",
                "data_dir = config.data.data_dir\n",
                "data_dir = \"../\" + data_dir\n",
                "tif_seq_file_path = os.path.join(data_dir, config.data.tif_seq_file)\n",
                "dataset_file_path = os.path.join(data_dir, config.data.dataset_file)\n",
                "counts_file = os.path.join(data_dir, config.data.counts_file)\n",
                "preprocessed_file = os.path.join(data_dir, config.data.preprocessed_file)\n",
                "\n",
                "# chage cwd to the root directory\n",
                "os.chdir(base_dir)\n",
                "print(f\"Current working directory: {os.getcwd()}\")\n",
                "print(f\"counts_file: {counts_file}\")\n",
                "\n",
                "tif_df = load_tif_seq_data(tif_seq_file_path)\n",
                "if not os.path.exists(counts_file) or not os.path.exists(preprocessed_file):\n",
                "    dataset, counts = match_with_genomic_data(tif_df, dataset_file_path)\n",
                "    save_processed_data(counts, dataset, counts_file, preprocessed_file)\n",
                "\n",
                "print(\"Preprocessing completed successfully!\")\n",
                "\n",
                "# Load preprocessed data\n",
                "counts = torch.load(counts_file)\n",
                "dataset = pd.read_parquet(preprocessed_file)\n",
                "\n",
                "print(f\"Loaded counts shape: {counts.shape}\")\n",
                "print(f\"Loaded dataset shape: {dataset.shape}\")\n",
                "\n",
                "# Splitting Data and Creating Data Loaders\n",
                "train_idx, val_idx, test_idx, one_hots, counts, dataset = preprocess_data(\n",
                "    dataset,\n",
                "    counts,\n",
                "    True,\n",
                "    config.data.seq_col,\n",
                "    set(config.data.val_chroms),\n",
                "    set(config.data.test_chroms),\n",
                ")\n",
                "\n",
                "tokens = get_tokens(dataset)\n",
                "\n",
                "data_module = YeastDataModule(\n",
                "    batch_size=config.training.batch_size,\n",
                "    train_idx=train_idx,\n",
                "    val_idx=val_idx,\n",
                "    test_idx=test_idx,\n",
                "    data=tokens,\n",
                "    counts=counts,\n",
                ")\n",
                "\n",
                "data_module.setup()"
            ]
        },
        {
            "cell_type": "markdown",
            "metadata": {},
            "source": [
                "# Load the model"
            ]
        },
        {
            "cell_type": "code",
            "execution_count": 4,
            "metadata": {},
            "outputs": [
                {
                    "data": {
                        "text/plain": [
                            "Lora(\n",
                            "  (embedding_model): PeftModelForTokenClassification(\n",
                            "    (base_model): LoraModel(\n",
                            "      (model): BertForMaskedLM(\n",
                            "        (bert): BertModel(\n",
                            "          (embeddings): BertEmbeddings(\n",
                            "            (word_embeddings): Embedding(5504, 768, padding_idx=0)\n",
                            "            (position_embeddings): Embedding(512, 768)\n",
                            "            (token_type_embeddings): Embedding(2, 768)\n",
                            "            (LayerNorm): LayerNorm((768,), eps=1e-12, elementwise_affine=True)\n",
                            "            (dropout): Dropout(p=0.1, inplace=False)\n",
                            "          )\n",
                            "          (encoder): BertEncoder(\n",
                            "            (layer): ModuleList(\n",
                            "              (0-11): 12 x BertLayer(\n",
                            "                (attention): BertAttention(\n",
                            "                  (self): BertSdpaSelfAttention(\n",
                            "                    (query): lora.Linear(\n",
                            "                      (base_layer): Linear(in_features=768, out_features=768, bias=True)\n",
                            "                      (lora_dropout): ModuleDict(\n",
                            "                        (default): Dropout(p=0.1, inplace=False)\n",
                            "                      )\n",
                            "                      (lora_A): ModuleDict(\n",
                            "                        (default): Linear(in_features=768, out_features=16, bias=False)\n",
                            "                      )\n",
                            "                      (lora_B): ModuleDict(\n",
                            "                        (default): Linear(in_features=16, out_features=768, bias=False)\n",
                            "                      )\n",
                            "                      (lora_embedding_A): ParameterDict()\n",
                            "                      (lora_embedding_B): ParameterDict()\n",
                            "                    )\n",
                            "                    (key): Linear(in_features=768, out_features=768, bias=True)\n",
                            "                    (value): lora.Linear(\n",
                            "                      (base_layer): Linear(in_features=768, out_features=768, bias=True)\n",
                            "                      (lora_dropout): ModuleDict(\n",
                            "                        (default): Dropout(p=0.1, inplace=False)\n",
                            "                      )\n",
                            "                      (lora_A): ModuleDict(\n",
                            "                        (default): Linear(in_features=768, out_features=16, bias=False)\n",
                            "                      )\n",
                            "                      (lora_B): ModuleDict(\n",
                            "                        (default): Linear(in_features=16, out_features=768, bias=False)\n",
                            "                      )\n",
                            "                      (lora_embedding_A): ParameterDict()\n",
                            "                      (lora_embedding_B): ParameterDict()\n",
                            "                    )\n",
                            "                    (dropout): Dropout(p=0.1, inplace=False)\n",
                            "                  )\n",
                            "                  (output): BertSelfOutput(\n",
                            "                    (dense): Linear(in_features=768, out_features=768, bias=True)\n",
                            "                    (LayerNorm): LayerNorm((768,), eps=1e-12, elementwise_affine=True)\n",
                            "                    (dropout): Dropout(p=0.1, inplace=False)\n",
                            "                  )\n",
                            "                )\n",
                            "                (intermediate): BertIntermediate(\n",
                            "                  (dense): Linear(in_features=768, out_features=3072, bias=True)\n",
                            "                  (intermediate_act_fn): GELUActivation()\n",
                            "                )\n",
                            "                (output): BertOutput(\n",
                            "                  (dense): Linear(in_features=3072, out_features=768, bias=True)\n",
                            "                  (LayerNorm): LayerNorm((768,), eps=1e-12, elementwise_affine=True)\n",
                            "                  (dropout): Dropout(p=0.1, inplace=False)\n",
                            "                )\n",
                            "              )\n",
                            "            )\n",
                            "          )\n",
                            "        )\n",
                            "        (cls): BertOnlyMLMHead(\n",
                            "          (predictions): BertLMPredictionHead(\n",
                            "            (transform): BertPredictionHeadTransform(\n",
                            "              (dense): Linear(in_features=768, out_features=768, bias=True)\n",
                            "              (transform_act_fn): GELUActivation()\n",
                            "              (LayerNorm): LayerNorm((768,), eps=1e-12, elementwise_affine=True)\n",
                            "            )\n",
                            "            (decoder): Linear(in_features=768, out_features=5504, bias=True)\n",
                            "          )\n",
                            "        )\n",
                            "      )\n",
                            "    )\n",
                            "  )\n",
                            "  (conv1): Conv1d(768, 512, kernel_size=(3,), stride=(1,), padding=(1,))\n",
                            "  (norm1): BatchNorm1d(512, eps=1e-05, momentum=0.1, affine=True, track_running_stats=True)\n",
                            "  (conv2): Conv1d(512, 256, kernel_size=(3,), stride=(1,), padding=(1,))\n",
                            "  (norm2): BatchNorm1d(256, eps=1e-05, momentum=0.1, affine=True, track_running_stats=True)\n",
                            "  (conv3): Conv1d(256, 128, kernel_size=(3,), stride=(1,), padding=(1,))\n",
                            "  (norm3): BatchNorm1d(128, eps=1e-05, momentum=0.1, affine=True, track_running_stats=True)\n",
                            "  (conv4): Conv1d(128, 2, kernel_size=(3,), stride=(1,), padding=(1,))\n",
                            "  (global_avgpool): AdaptiveAvgPool1d(output_size=1)\n",
                            "  (count_linear): Linear(in_features=128, out_features=2, bias=True)\n",
                            ")"
                        ]
                    },
                    "execution_count": 4,
                    "metadata": {},
                    "output_type": "execute_result"
                }
            ],
            "source": [
                "model = Lora.load_from_checkpoint('../data/best_models/lora.ckpt')\n",
                "model.eval()"
            ]
        },
        {
            "cell_type": "code",
            "execution_count": 5,
            "metadata": {},
            "outputs": [
                {
                    "name": "stdout",
                    "output_type": "stream",
                    "text": [
                        "=============================================================================================================================\n",
                        "Layer (type:depth-idx)                                                      Output Shape              Param #\n",
                        "=============================================================================================================================\n",
                        "Lora                                                                        [2, 2, 295]               --\n",
                        "├─PeftModelForTokenClassification: 1-1                                      [2, 298, 768]             --\n",
                        "│    └─LoraModel: 2-1                                                       [2, 298, 768]             --\n",
                        "│    │    └─BertForMaskedLM: 3-1                                            --                        90,865,280\n",
                        "├─Conv1d: 1-2                                                               [2, 512, 295]             1,180,160\n",
                        "├─BatchNorm1d: 1-3                                                          [2, 512, 295]             1,024\n",
                        "├─Conv1d: 1-4                                                               [2, 256, 295]             393,472\n",
                        "├─BatchNorm1d: 1-5                                                          [2, 256, 295]             512\n",
                        "├─Conv1d: 1-6                                                               [2, 128, 295]             98,432\n",
                        "├─BatchNorm1d: 1-7                                                          [2, 128, 295]             256\n",
                        "├─Conv1d: 1-8                                                               [2, 2, 295]               770\n",
                        "├─AdaptiveAvgPool1d: 1-9                                                    [2, 128, 1]               --\n",
                        "├─Linear: 1-10                                                              [2, 2]                    258\n",
                        "=============================================================================================================================\n",
                        "Total params: 96,767,236\n",
                        "Trainable params: 2,373,892\n",
                        "Non-trainable params: 94,393,344\n",
                        "Total mult-adds (G): 1.18\n",
                        "=============================================================================================================================\n",
                        "Input size (MB): 15.69\n",
                        "Forward/backward pass size (MB): 627.93\n",
                        "Params size (MB): 387.07\n",
                        "Estimated Total Size (MB): 1030.68\n",
                        "=============================================================================================================================\n"
                    ]
                }
            ],
            "source": [
                "# import summary\n",
                "from torchinfo import summary\n",
                "print(summary(model, input_data=tokens[0:2]))"
            ]
        },
        {
            "cell_type": "code",
            "execution_count": 6,
            "metadata": {},
            "outputs": [],
            "source": [
                "from transformers import AutoTokenizer\n",
                "tokenizer = AutoTokenizer.from_pretrained(\n",
                "        \"gagneurlab/SpeciesLM\", revision=\"downstream_species_lm\"\n",
                "    )\n",
                "\n",
                "\n",
                "pad_token_id = tokenizer.pad_token_id\n",
                "# Define the reference token size like tokens[0] filled with pad_token_id\n",
                "ref_token  = torch.full_like(tokens[0], pad_token_id)"
            ]
        },
        {
            "cell_type": "code",
            "execution_count": 7,
            "metadata": {},
            "outputs": [],
            "source": [
                "import pytorch_lightning as pl\n",
                "\n",
                "class ModelWrapper(pl.LightningModule):\n",
                "    def __init__(self, model):\n",
                "        super(ModelWrapper, self).__init__()\n",
                "        self.model = model\n",
                "\n",
                "    def forward(self, x):\n",
                "        outputs = self.model(x)\n",
                "        # Assume outputs is a tuple of tensors\n",
                "        #concatenated_output = torch.cat(outputs, dim=1)\n",
                "        return outputs[0]"
            ]
        },
        {
            "cell_type": "markdown",
            "metadata": {},
            "source": [
                "Get DL attributions with respect to embedding layer"
            ]
        },
        {
            "cell_type": "code",
            "execution_count": 8,
            "metadata": {},
            "outputs": [],
            "source": [
                "from captum.attr import LayerDeepLift\n",
                "\n",
                "wrapped_model = ModelWrapper(model)\n",
                "dl = LayerDeepLift(wrapped_model, model.embedding_model.bert.embeddings)"
            ]
        },
        {
            "cell_type": "code",
            "execution_count": 9,
            "metadata": {},
            "outputs": [],
            "source": [
                "val_tokens = tokens[val_idx]\n",
                "val_one_hots = one_hots[val_idx]"
            ]
        },
        {
            "cell_type": "code",
            "execution_count": 10,
            "metadata": {},
            "outputs": [
                {
                    "name": "stderr",
                    "output_type": "stream",
                    "text": [
                        "We strongly recommend passing in an `attention_mask` since your input_ids may be padded. See https://huggingface.co/docs/transformers/troubleshooting#incorrect-output-when-padding-tokens-arent-masked.\n",
                        "You may ignore this warning if your `pad_token_id` (0) is identical to the `bos_token_id` (0), `eos_token_id` (None), or the `sep_token_id` (None), and your input is not padded.\n"
                    ]
                }
            ],
            "source": [
                "baselines = ref_token.unsqueeze(0)\n",
                "\n",
                "attributions, delta = dl.attribute(\n",
                "    inputs=val_tokens, baselines=baselines, return_convergence_delta=True, target=(0,0)\n",
                ")"
            ]
        },
        {
            "cell_type": "markdown",
            "metadata": {},
            "source": [
                "Get kmer_attributions from embedding attributions"
            ]
        },
        {
            "cell_type": "code",
            "execution_count": 11,
            "metadata": {},
            "outputs": [],
            "source": [
                "kmer_attributions = torch.sum(attributions, dim=2)\n",
                "\n",
                "# remove star seq tok, species tok, end seq tok\n",
                "clippied_kmer_attributions = kmer_attributions[:,2 : -1]"
            ]
        },
        {
            "cell_type": "markdown",
            "metadata": {},
            "source": [
                "Get one hot attributions from kmer attributions"
            ]
        },
        {
            "cell_type": "code",
            "execution_count": 12,
            "metadata": {},
            "outputs": [],
            "source": [
                "def kmer_to_one_hot_attribution(kmer_attributions, one_hots, k=6, stride=1):\n",
                "    attributions = torch.zeros_like(one_hots)\n",
                "    _, n_kmers = kmer_attributions.shape\n",
                "\n",
                "    sequences, _, _ = one_hots.shape\n",
                "    for seq in range(sequences):\n",
                "        for i in range(0, n_kmers, stride):\n",
                "            kmer_attribution = kmer_attributions[seq, i]\n",
                "            for j in range(k):\n",
                "                attributions[seq, :, i + j] += one_hots[seq, :, i + j] * kmer_attribution\n",
                "\n",
                "    return attributions"
            ]
        },
        {
            "cell_type": "code",
            "execution_count": 13,
            "metadata": {},
            "outputs": [],
            "source": [
                "testing_one_hots = val_one_hots\n",
                "testing_one_hots = testing_one_hots.double()\n",
                "\n",
                "attr = kmer_to_one_hot_attribution(kmer_attributions=clippied_kmer_attributions, one_hots=testing_one_hots)"
            ]
        },
        {
            "cell_type": "code",
            "execution_count": 14,
            "metadata": {},
            "outputs": [
                {
                    "name": "stdout",
                    "output_type": "stream",
                    "text": [
                        "(498, 4, 300)\n",
                        "(498, 4, 300)\n"
                    ]
                }
            ],
            "source": [
                "input_batch_np = val_one_hots.detach().numpy()\n",
                "attribution_np = attr.detach().numpy()\n",
                "\n",
                "print(input_batch_np.shape)\n",
                "print(attribution_np.shape)"
            ]
        },
        {
            "cell_type": "code",
            "execution_count": 15,
            "metadata": {},
            "outputs": [],
            "source": [
                "# save the attribution and input batch\n",
                "np.save(\"../data/input_batch.npy\", input_batch_np)\n",
                "np.save(\"../data/attribution.npy\", attribution_np)"
            ]
        },
        {
            "cell_type": "code",
            "execution_count": 16,
            "metadata": {},
            "outputs": [
                {
                    "name": "stdout",
                    "output_type": "stream",
                    "text": [
                        "Using 527 positive seqlets\n",
                        "Extracted 436 negative seqlets\n"
                    ]
                }
            ],
            "source": [
                "import modiscolite\n",
                "\n",
                "pos_patterns, neg_patterns = modiscolite.tfmodisco.TFMoDISco(\n",
                "    hypothetical_contribs=attribution_np.transpose((0, 2, 1)),\n",
                "    one_hot=input_batch_np.transpose((0, 2, 1)),\n",
                "    max_seqlets_per_metacluster=1000000,\n",
                "    sliding_window_size=5,#5 is working\n",
                "    flank_size=3,\n",
                "    target_seqlet_fdr=0.25,\n",
                "    n_leiden_runs=3,\n",
                "    verbose=True,\n",
                "    trim_to_window_size=20,\n",
                "    initial_flank_to_add=5,\n",
                "    final_min_cluster_size = 3\n",
                ")\n",
                "\n",
                "modiscolite.io.save_hdf5(\"../data/modisco_results1.h5\", pos_patterns, neg_patterns, window_size=20)"
            ]
        },
        {
            "cell_type": "code",
            "execution_count": 25,
            "metadata": {},
            "outputs": [
                {
                    "name": "stdout",
                    "output_type": "stream",
                    "text": [
                        "\u001b[0m"
                    ]
                }
            ],
            "source": [
                "!modisco report -i ../data/modisco_results1.h5 -o ../data/report/"
            ]
        },
        {
            "cell_type": "code",
            "execution_count": 26,
            "metadata": {},
            "outputs": [
                {
                    "data": {
                        "image/png": "[encoded data removed]",
                        "text/plain": [
                            "<IPython.core.display.Image object>"
                        ]
                    },
                    "execution_count": 26,
                    "metadata": {},
                    "output_type": "execute_result"
                }
            ],
            "source": [
                "from IPython.display import Image\n",
                "\n",
                "Image('../data/report/trimmed_logos/pos_patterns.pattern_0.cwm.fwd.png')"
            ]
        },
        {
            "cell_type": "code",
            "execution_count": 27,
            "metadata": {},
            "outputs": [
                {
                    "data": {
                        "image/png": "[encoded data removed]",
                        "text/plain": [
                            "<IPython.core.display.Image object>"
                        ]
                    },
                    "execution_count": 27,
                    "metadata": {},
                    "output_type": "execute_result"
                }
            ],
            "source": [
                "Image('../data/report/trimmed_logos/pos_patterns.pattern_1.cwm.fwd.png')"
            ]
        }
    ],
    "metadata": {
        "kernelspec": {
            "display_name": "regulate-me",
            "language": "python",
            "name": "python3"
        },
        "language_info": {
            "codemirror_mode": {
                "name": "ipython",
                "version": 3
            },
            "file_extension": ".py",
            "mimetype": "text/x-python",
            "name": "python",
            "nbconvert_exporter": "python",
            "pygments_lexer": "ipython3",
            "version": "3.10.14"
        }
    },
    "nbformat": 4,
    "nbformat_minor": 2
}
